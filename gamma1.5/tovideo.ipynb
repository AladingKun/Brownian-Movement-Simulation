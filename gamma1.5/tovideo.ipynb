{
 "cells": [
  {
   "cell_type": "code",
   "execution_count": null,
   "metadata": {},
   "outputs": [],
   "source": [
    "import cv2\n",
    "import os\n",
    "\n",
    "def images_to_video(image_folder, video_name, fps=10):\n",
    "    images = [img for img in os.listdir(image_folder) if img.endswith(\".png\")] \n",
    "    \n",
    "    frame = cv2.imread(os.path.join(image_folder, images[0]))\n",
    "    h, w, layers = frame.shape\n",
    "    size = (w, h)\n",
    "\n",
    "    out = cv2.VideoWriter(video_name, cv2.VideoWriter_fourcc(*'MP4V'), fps, size)  # 'DIVX' is a codec used to compress and decompress video files, you can use 'XVID' or 'MP4V' for .avi or .mp4 format respectively\n",
    "    \n",
    "    for image in images:\n",
    "        img_path = os.path.join(image_folder, image)\n",
    "        img = cv2.imread(img_path)\n",
    "        out.write(img)\n",
    "    \n",
    "    out.release()\n",
    "\n",
    "\n",
    "images_to_video('./', 'gamma1.5_video.mp4')"
   ]
  }
 ],
 "metadata": {
  "kernelspec": {
   "display_name": "Python 3",
   "language": "python",
   "name": "python3"
  },
  "language_info": {
   "codemirror_mode": {
    "name": "ipython",
    "version": 3
   },
   "file_extension": ".py",
   "mimetype": "text/x-python",
   "name": "python",
   "nbconvert_exporter": "python",
   "pygments_lexer": "ipython3",
   "version": "3.11.6"
  }
 },
 "nbformat": 4,
 "nbformat_minor": 2
}
